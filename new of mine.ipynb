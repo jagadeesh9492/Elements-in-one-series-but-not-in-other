{
 "cells": [
  {
   "cell_type": "code",
   "execution_count": 2,
   "id": "5cbdc276",
   "metadata": {},
   "outputs": [
    {
     "name": "stdout",
     "output_type": "stream",
     "text": [
      "5\n",
      "[1, 1, 1, 1, 1, 2, 2, 2, 2, 2, 3, 3, 3, 3, 3, 4, 4, 4, 4, 5, 5, 5, 5]\n",
      "4\n",
      "[1, 1, 1, 1, 1, 2, 2, 2, 2, 2, 3, 3, 3, 3, 3]\n",
      "elements not in other series\n",
      "[1, 2, 3]\n"
     ]
    }
   ],
   "source": [
    "#Elements found in one series but not in other series\n",
    "\n",
    "\n",
    "import pandas as pd\n",
    "a=pd.Series([1,2,3,4,5])\n",
    "a1=pd.Series([4,5,6,7,8])\n",
    "a2=a.tolist()\n",
    "print(len(a2))\n",
    "a3=a1.tolist()\n",
    "a4=[]\n",
    "for i in a2:\n",
    "    for j in a3:\n",
    "        if i!=j:\n",
    "            a4.append(i)\n",
    "print(a4)\n",
    "print(a4.count(4))\n",
    "empty=[]\n",
    "for i in a4:\n",
    "    if a4.count(i)==len(a2):\n",
    "        empty.append(i)\n",
    "print(empty)\n",
    "c=empty[0::len(a2)]\n",
    "print('elements not in other series')\n",
    "\n",
    "print(c)\n",
    "        "
   ]
  },
  {
   "cell_type": "code",
   "execution_count": null,
   "id": "4ef95e61",
   "metadata": {},
   "outputs": [],
   "source": []
  },
  {
   "cell_type": "code",
   "execution_count": null,
   "id": "21a172ad",
   "metadata": {},
   "outputs": [],
   "source": []
  }
 ],
 "metadata": {
  "kernelspec": {
   "display_name": "Python 3 (ipykernel)",
   "language": "python",
   "name": "python3"
  },
  "language_info": {
   "codemirror_mode": {
    "name": "ipython",
    "version": 3
   },
   "file_extension": ".py",
   "mimetype": "text/x-python",
   "name": "python",
   "nbconvert_exporter": "python",
   "pygments_lexer": "ipython3",
   "version": "3.9.13"
  }
 },
 "nbformat": 4,
 "nbformat_minor": 5
}
